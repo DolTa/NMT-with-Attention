{
 "cells": [
  {
   "cell_type": "markdown",
   "metadata": {
    "colab_type": "text",
    "id": "J0Qjg6vuaHNt"
   },
   "source": [
    "# Neural machine translation with attention"
   ]
  },
  {
   "cell_type": "markdown",
   "metadata": {
    "colab_type": "text",
    "id": "CiwtNgENbx2g"
   },
   "source": [
    "This notebook trains a sequence to sequence (seq2seq) model for  English to Spanish translation. This is an advanced example that assumes some knowledge of sequence to sequence models.\n",
    "\n",
    "After training the model in this notebook, you will be able to input English  sentence, such as  and return the English translation\n",
    "\n",
    "The translation quality is reasonable and not great, but the generated attention plot is perhaps more interesting. This shows which parts of the input sentence has the model's attention while translating:"
   ]
  },
  {
   "cell_type": "code",
   "execution_count": 1,
   "metadata": {
    "colab": {},
    "colab_type": "code",
    "id": "tnxXKDjq3jEL"
   },
   "outputs": [],
   "source": [
    "from __future__ import absolute_import, division, print_function, unicode_literals\n",
    "\n",
    "try:\n",
    "  # %tensorflow_version only exists in Colab.\n",
    "  %tensorflow_version 2.x\n",
    "except Exception:\n",
    "  pass\n",
    "import tensorflow as tf\n",
    "\n",
    "import matplotlib.pyplot as plt\n",
    "import matplotlib.ticker as ticker\n",
    "from sklearn.model_selection import train_test_split\n",
    "import pandas as pd\n",
    "import unicodedata\n",
    "import re\n",
    "import numpy as np\n",
    "import os\n",
    "import io\n",
    "import time\n",
    "from string import digits"
   ]
  },
  {
   "cell_type": "code",
   "execution_count": 2,
   "metadata": {},
   "outputs": [],
   "source": [
    "data_path = \"spa.txt\""
   ]
  },
  {
   "cell_type": "markdown",
   "metadata": {
    "colab_type": "text",
    "id": "wfodePkj3jEa"
   },
   "source": [
    "## Download and prepare the dataset\n",
    "\n",
    "We'll use a language dataset provided by http://www.manythings.org/anki/. This dataset contains language translation pairs in the format:\n",
    "\n",
    "After downloading the dataset, here are the steps we'll take to prepare the data:\n",
    "\n",
    "1. Add a *start* and *end* token to each sentence.\n",
    "2. Clean the sentences by removing special characters.\n",
    "3. Create a word index and reverse word index (dictionaries mapping from word → id and id → word).\n",
    "4. Pad each sentence to a maximum length."
   ]
  },
  {
   "cell_type": "code",
   "execution_count": 3,
   "metadata": {},
   "outputs": [
    {
     "data": {
      "text/html": [
       "<div>\n",
       "<style scoped>\n",
       "    .dataframe tbody tr th:only-of-type {\n",
       "        vertical-align: middle;\n",
       "    }\n",
       "\n",
       "    .dataframe tbody tr th {\n",
       "        vertical-align: top;\n",
       "    }\n",
       "\n",
       "    .dataframe thead th {\n",
       "        text-align: right;\n",
       "    }\n",
       "</style>\n",
       "<table border=\"1\" class=\"dataframe\">\n",
       "  <thead>\n",
       "    <tr style=\"text-align: right;\">\n",
       "      <th></th>\n",
       "      <th>source</th>\n",
       "      <th>target</th>\n",
       "    </tr>\n",
       "  </thead>\n",
       "  <tbody>\n",
       "    <tr>\n",
       "      <td>69231</td>\n",
       "      <td>I want to talk to you about Tom.</td>\n",
       "      <td>Quiero hablar contigo sobre Tom.</td>\n",
       "    </tr>\n",
       "    <tr>\n",
       "      <td>75461</td>\n",
       "      <td>Did you feed the dog this morning?</td>\n",
       "      <td>¿Diste de comer al perro esta mañana?</td>\n",
       "    </tr>\n",
       "    <tr>\n",
       "      <td>80335</td>\n",
       "      <td>Nobody speaks like this in Germany.</td>\n",
       "      <td>Nadie habla así en Alemania.</td>\n",
       "    </tr>\n",
       "    <tr>\n",
       "      <td>17726</td>\n",
       "      <td>The men go to work.</td>\n",
       "      <td>Los hombres van a trabajar.</td>\n",
       "    </tr>\n",
       "    <tr>\n",
       "      <td>63123</td>\n",
       "      <td>Tom was dressed appropriately.</td>\n",
       "      <td>Tom estaba vestido para la ocasión.</td>\n",
       "    </tr>\n",
       "  </tbody>\n",
       "</table>\n",
       "</div>"
      ],
      "text/plain": [
       "                                    source  \\\n",
       "69231     I want to talk to you about Tom.   \n",
       "75461   Did you feed the dog this morning?   \n",
       "80335  Nobody speaks like this in Germany.   \n",
       "17726                  The men go to work.   \n",
       "63123       Tom was dressed appropriately.   \n",
       "\n",
       "                                      target  \n",
       "69231       Quiero hablar contigo sobre Tom.  \n",
       "75461  ¿Diste de comer al perro esta mañana?  \n",
       "80335           Nadie habla así en Alemania.  \n",
       "17726            Los hombres van a trabajar.  \n",
       "63123    Tom estaba vestido para la ocasión.  "
      ]
     },
     "execution_count": 3,
     "metadata": {},
     "output_type": "execute_result"
    }
   ],
   "source": [
    "#Read the data\n",
    "lines_raw= pd.read_table(data_path,names=['source', 'target'])\n",
    "lines_raw.sample(5)"
   ]
  },
  {
   "cell_type": "markdown",
   "metadata": {},
   "source": [
    "__Clean and Preprocess the text__\n",
    "1. Convert to lower case\n",
    "2. Convert special characters\n",
    "3. Remove Digits\n",
    "4. Remove spaces\n",
    "5. Add start_ and end_ tags to each sentence\n"
   ]
  },
  {
   "cell_type": "code",
   "execution_count": 4,
   "metadata": {},
   "outputs": [],
   "source": [
    "def preprocess_sentence(sentence):\n",
    "    #sentence = unicode_to_ascii(sentence.lower().strip())\n",
    "    num_digits= str.maketrans('','', digits)\n",
    "    \n",
    "    sentence= sentence.lower()\n",
    "    sentence= re.sub(\" +\", \" \", sentence)\n",
    "    sentence= re.sub(\"'\", '', sentence)\n",
    "    sentence= sentence.translate(num_digits)\n",
    "    sentence= sentence.strip()\n",
    "    sentence= re.sub(r\"([?.!,¿])\", r\" \\1 \", sentence)\n",
    "    sentence = sentence.rstrip().strip()\n",
    "    sentence=  'start_ ' + sentence + ' _end'\n",
    "    \n",
    "    return sentence"
   ]
  },
  {
   "cell_type": "code",
   "execution_count": 5,
   "metadata": {},
   "outputs": [
    {
     "name": "stdout",
     "output_type": "stream",
     "text": [
      "start_ may i borrow this book ? _end\n",
      "b'start_ \\xc2\\xbf puedo tomar prestado este libro ? _end'\n"
     ]
    }
   ],
   "source": [
    "en_sentence = u\"May I borrow this book?\"\n",
    "sp_sentence = u\"¿Puedo tomar prestado este libro?\"\n",
    "print(preprocess_sentence(en_sentence))\n",
    "print(preprocess_sentence(sp_sentence).encode('utf-8'))"
   ]
  },
  {
   "cell_type": "code",
   "execution_count": 6,
   "metadata": {
    "colab": {},
    "colab_type": "code",
    "id": "opI2GzOt479E"
   },
   "outputs": [
    {
     "name": "stdout",
     "output_type": "stream",
     "text": [
      "start_ may i borrow this book ? _end\n",
      "b'start_ \\xc2\\xbf puedo tomar prestado este libro ? _end'\n"
     ]
    }
   ],
   "source": [
    "en_sentence = u\"May I borrow this book?\"\n",
    "sp_sentence = u\"¿Puedo tomar prestado este libro?\"\n",
    "print(preprocess_sentence(en_sentence))\n",
    "print(preprocess_sentence(sp_sentence).encode('utf-8'))"
   ]
  },
  {
   "cell_type": "code",
   "execution_count": 7,
   "metadata": {
    "colab": {},
    "colab_type": "code",
    "id": "OHn4Dct23jEm"
   },
   "outputs": [],
   "source": [
    "# 1. Remove the accents\n",
    "# 2. Clean the sentences\n",
    "# 3. Return word pairs in the format: [ENGLISH, SPANISH]\n",
    "def create_dataset(path, num_examples):\n",
    "  \n",
    "  lines = io.open(path, encoding='UTF-8').read().strip().split('\\n')\n",
    "  #print(lines)\n",
    "  word_pairs = [[preprocess_sentence(w) for w in l.split('\\t')]  for l in lines[:num_examples]]\n",
    "  print(path)\n",
    "  return zip(*word_pairs)"
   ]
  },
  {
   "cell_type": "code",
   "execution_count": 8,
   "metadata": {
    "colab": {},
    "colab_type": "code",
    "id": "cTbSbBz55QtF"
   },
   "outputs": [
    {
     "name": "stdout",
     "output_type": "stream",
     "text": [
      "spa.txt\n",
      "start_ can you please leave me alone ? _end\n",
      "start_ ¿ me puedes dejar solo ,  por favor ? _end\n"
     ]
    },
    {
     "data": {
      "text/plain": [
       "tuple"
      ]
     },
     "execution_count": 8,
     "metadata": {},
     "output_type": "execute_result"
    }
   ],
   "source": [
    "sample_size=60000\n",
    "source, target = create_dataset(data_path, sample_size)\n",
    "print(source[-1])\n",
    "print(target[-1])\n",
    "type(target)"
   ]
  },
  {
   "cell_type": "code",
   "execution_count": 9,
   "metadata": {
    "colab": {},
    "colab_type": "code",
    "id": "OmMZQpdO60dt"
   },
   "outputs": [],
   "source": [
    "def max_length(tensor):\n",
    "  return max(len(t) for t in tensor)"
   ]
  },
  {
   "cell_type": "markdown",
   "metadata": {},
   "source": [
    "__Create the source and ttarget toekns and post pad them__"
   ]
  },
  {
   "cell_type": "code",
   "execution_count": 10,
   "metadata": {},
   "outputs": [],
   "source": [
    "source_sentence_tokenizer= tf.keras.preprocessing.text.Tokenizer(filters='')\n",
    "source_sentence_tokenizer.fit_on_texts(source)\n",
    "source_tensor = source_sentence_tokenizer.texts_to_sequences(source)\n",
    "source_tensor= tf.keras.preprocessing.sequence.pad_sequences(source_tensor,padding='post' )"
   ]
  },
  {
   "cell_type": "code",
   "execution_count": 11,
   "metadata": {},
   "outputs": [
    {
     "name": "stdout",
     "output_type": "stream",
     "text": [
      "20\n"
     ]
    }
   ],
   "source": [
    "target_sentence_tokenizer= tf.keras.preprocessing.text.Tokenizer(filters='')\n",
    "target_sentence_tokenizer.fit_on_texts(target)\n",
    "target_tensor = target_sentence_tokenizer.texts_to_sequences(target)\n",
    "target_tensor= tf.keras.preprocessing.sequence.pad_sequences(target_tensor,padding='post' )\n",
    "print(len(target_tensor[0]))"
   ]
  },
  {
   "cell_type": "markdown",
   "metadata": {
    "colab_type": "text",
    "id": "GOi42V79Ydlr"
   },
   "source": [
    "### Limit the size of the dataset to experiment faster (optional)\n",
    "\n",
    " To train faster, we can limit the size of the dataset using **sample_size** sentences (of course, translation quality degrades with less data):"
   ]
  },
  {
   "cell_type": "code",
   "execution_count": 12,
   "metadata": {},
   "outputs": [
    {
     "name": "stdout",
     "output_type": "stream",
     "text": [
      "20\n",
      "13\n"
     ]
    }
   ],
   "source": [
    "max_target_length= max(len(t) for t in  target_tensor)\n",
    "print(max_target_length)\n",
    "max_source_length= max(len(t) for t in  source_tensor)\n",
    "print(max_source_length)"
   ]
  },
  {
   "cell_type": "markdown",
   "metadata": {},
   "source": [
    "##  Creating Train and Test dataset"
   ]
  },
  {
   "cell_type": "code",
   "execution_count": 13,
   "metadata": {},
   "outputs": [],
   "source": [
    "source_train_tensor, source_test_tensor, target_train_tensor, target_test_tensor= train_test_split(source_tensor, target_tensor,test_size=0.2)"
   ]
  },
  {
   "cell_type": "code",
   "execution_count": 14,
   "metadata": {
    "colab": {},
    "colab_type": "code",
    "id": "4QILQkOs3jFG"
   },
   "outputs": [
    {
     "name": "stdout",
     "output_type": "stream",
     "text": [
      "48000 48000 12000 12000\n"
     ]
    }
   ],
   "source": [
    "# Creating training and validation sets using an 80-20 split\n",
    "input_tensor_train, input_tensor_val, target_tensor_train, target_tensor_val = train_test_split(source_tensor, target_tensor, test_size=0.2)\n",
    "\n",
    "# Show length\n",
    "print(len(input_tensor_train), len(target_tensor_train), len(input_tensor_val), len(target_tensor_val))"
   ]
  },
  {
   "cell_type": "code",
   "execution_count": 15,
   "metadata": {},
   "outputs": [
    {
     "data": {
      "text/plain": [
       "numpy.ndarray"
      ]
     },
     "execution_count": 15,
     "metadata": {},
     "output_type": "execute_result"
    }
   ],
   "source": [
    "type(input_tensor_train)"
   ]
  },
  {
   "cell_type": "code",
   "execution_count": 16,
   "metadata": {
    "colab": {},
    "colab_type": "code",
    "id": "lJPmLZGMeD5q"
   },
   "outputs": [],
   "source": [
    "def convert(lang, tensor):\n",
    "  for t in tensor:\n",
    "    if t!=0:\n",
    "      print (\"%d ----> %s\" % (t, lang.index_word[t]))"
   ]
  },
  {
   "cell_type": "code",
   "execution_count": 17,
   "metadata": {
    "colab": {},
    "colab_type": "code",
    "id": "VXukARTDd7MT"
   },
   "outputs": [
    {
     "name": "stdout",
     "output_type": "stream",
     "text": [
      "Input Language; index to word mapping\n",
      "1 ----> start_\n",
      "4 ----> i\n",
      "39 ----> know\n",
      "7 ----> tom\n",
      "10 ----> is\n",
      "27 ----> your\n",
      "228 ----> friend\n",
      "3 ----> .\n",
      "2 ----> _end\n",
      "\n",
      "Target Language; index to word mapping\n",
      "1 ----> start_\n",
      "75 ----> sé\n",
      "12 ----> que\n",
      "6 ----> tom\n",
      "9 ----> es\n",
      "42 ----> tu\n",
      "219 ----> amigo\n",
      "3 ----> .\n",
      "2 ----> _end\n"
     ]
    }
   ],
   "source": [
    "print (\"Input Language; index to word mapping\")\n",
    "convert(source_sentence_tokenizer, source_train_tensor[0])\n",
    "print ()\n",
    "print (\"Target Language; index to word mapping\")\n",
    "convert( target_sentence_tokenizer, target_train_tensor[0])"
   ]
  },
  {
   "cell_type": "markdown",
   "metadata": {
    "colab_type": "text",
    "id": "rgCLkfv5uO3d"
   },
   "source": [
    "### Create a tf.data dataset"
   ]
  },
  {
   "cell_type": "code",
   "execution_count": 18,
   "metadata": {
    "colab": {},
    "colab_type": "code",
    "id": "TqHsArVZ3jFS"
   },
   "outputs": [
    {
     "data": {
      "text/plain": [
       "tensorflow.python.data.ops.dataset_ops.BatchDataset"
      ]
     },
     "execution_count": 18,
     "metadata": {},
     "output_type": "execute_result"
    }
   ],
   "source": [
    "BUFFER_SIZE = len(source_train_tensor)\n",
    "BATCH_SIZE = 64\n",
    "steps_per_epoch = len(source_train_tensor)//BATCH_SIZE\n",
    "embedding_dim = 256\n",
    "units = 1024\n",
    "vocab_inp_size = len(source_sentence_tokenizer.word_index)+1\n",
    "vocab_tar_size = len(target_sentence_tokenizer.word_index)+1\n",
    "\n",
    "dataset = tf.data.Dataset.from_tensor_slices((source_train_tensor, target_train_tensor)).shuffle(BUFFER_SIZE)\n",
    "dataset = dataset.batch(BATCH_SIZE, drop_remainder=True)\n",
    "type(dataset)"
   ]
  },
  {
   "cell_type": "code",
   "execution_count": 19,
   "metadata": {
    "colab": {},
    "colab_type": "code",
    "id": "qc6-NK1GtWQt"
   },
   "outputs": [
    {
     "data": {
      "text/plain": [
       "(TensorShape([64, 13]), TensorShape([64, 20]))"
      ]
     },
     "execution_count": 19,
     "metadata": {},
     "output_type": "execute_result"
    }
   ],
   "source": [
    "example_input_batch, example_target_batch = next(iter(dataset))\n",
    "example_input_batch.shape, example_target_batch.shape"
   ]
  },
  {
   "cell_type": "markdown",
   "metadata": {
    "colab_type": "text",
    "id": "TNfHIF71ulLu"
   },
   "source": [
    "## Write the encoder and decoder model\n",
    "\n",
    "Implement an encoder-decoder model with attention which you can read about in the TensorFlow [Neural Machine Translation (seq2seq) tutorial](https://github.com/tensorflow/nmt). This example uses a more recent set of APIs. This notebook implements the [attention equations]\n",
    "The below picture and formulas are an example of attention mechanism from [Luong's paper](https://arxiv.org/abs/1508.04025v5). \n",
    "\n",
    "<img src=\"https://www.tensorflow.org/images/seq2seq/attention_mechanism.jpg\" width=\"500\" alt=\"attention mechanism\">\n",
    "\n",
    "The input is put through an encoder model which gives us the encoder output of shape *(batch_size, max_length, hidden_size)* and the encoder hidden state of shape *(batch_size, hidden_size)*.\n",
    "\n",
    "Here are the equations that are implemented:\n",
    "\n",
    "<img src=\"https://www.tensorflow.org/images/seq2seq/attention_equation_0.jpg\" alt=\"attention equation 0\" width=\"800\">\n",
    "<img src=\"https://www.tensorflow.org/images/seq2seq/attention_equation_1.jpg\" alt=\"attention equation 1\" width=\"800\">\n",
    "\n",
    "This tutorial uses [Bahdanau attention](https://arxiv.org/pdf/1409.0473.pdf) for the encoder. Let's decide on notation before writing the simplified form:\n",
    "\n",
    "* FC = Fully connected (dense) layer\n",
    "* EO = Encoder output\n",
    "* H = hidden state\n",
    "* X = input to the decoder\n",
    "\n",
    "And the pseudo-code:\n",
    "\n",
    "* `score = FC(tanh(FC(EO) + FC(H)))`\n",
    "* `attention weights = softmax(score, axis = 1)`. Softmax by default is applied on the last axis but here we want to apply it on the *1st axis*, since the shape of score is *(batch_size, max_length, hidden_size)*. `Max_length` is the length of our input. Since we are trying to assign a weight to each input, softmax should be applied on that axis.\n",
    "* `context vector = sum(attention weights * EO, axis = 1)`. Same reason as above for choosing axis as 1.\n",
    "* `embedding output` = The input to the decoder X is passed through an embedding layer.\n",
    "* `merged vector = concat(embedding output, context vector)`\n",
    "* This merged vector is then given to the GRU\n",
    "\n",
    "The shapes of all the vectors at each step have been specified in the comments in the code:"
   ]
  },
  {
   "cell_type": "code",
   "execution_count": 20,
   "metadata": {
    "colab": {},
    "colab_type": "code",
    "id": "nZ2rI24i3jFg"
   },
   "outputs": [],
   "source": [
    "class Encoder(tf.keras.Model):\n",
    "  def __init__(self, vocab_size, embedding_dim, enc_units, batch_sz):\n",
    "    super(Encoder, self).__init__()\n",
    "    self.batch_sz = batch_sz\n",
    "    self.enc_units = enc_units\n",
    "    self.embedding = tf.keras.layers.Embedding(vocab_size, embedding_dim)\n",
    "    self.gru = tf.keras.layers.GRU(self.enc_units,\n",
    "                                   return_sequences=True,\n",
    "                                   return_state=True,\n",
    "                                   recurrent_initializer='glorot_uniform')\n",
    "\n",
    "  def call(self, x, hidden):\n",
    "    x = self.embedding(x)\n",
    "    output, state = self.gru(x, initial_state = hidden)\n",
    "    return output, state\n",
    "\n",
    "  def initialize_hidden_state(self):\n",
    "    return tf.zeros((self.batch_sz, self.enc_units))"
   ]
  },
  {
   "cell_type": "code",
   "execution_count": 21,
   "metadata": {
    "colab": {},
    "colab_type": "code",
    "id": "60gSVh05Jl6l"
   },
   "outputs": [
    {
     "name": "stdout",
     "output_type": "stream",
     "text": [
      "Encoder output shape: (batch size, sequence length, units) (64, 13, 1024)\n",
      "Encoder Hidden state shape: (batch size, units) (64, 1024)\n"
     ]
    }
   ],
   "source": [
    "encoder = Encoder(vocab_inp_size, embedding_dim, units, BATCH_SIZE)\n",
    "\n",
    "# sample input\n",
    "sample_hidden = encoder.initialize_hidden_state()\n",
    "sample_output, sample_hidden = encoder(example_input_batch, sample_hidden)\n",
    "print ('Encoder output shape: (batch size, sequence length, units) {}'.format(sample_output.shape))\n",
    "print ('Encoder Hidden state shape: (batch size, units) {}'.format(sample_hidden.shape))"
   ]
  },
  {
   "cell_type": "code",
   "execution_count": 22,
   "metadata": {
    "colab": {},
    "colab_type": "code",
    "id": "umohpBN2OM94"
   },
   "outputs": [],
   "source": [
    "class BahdanauAttention(tf.keras.layers.Layer):\n",
    "  def __init__(self, units):\n",
    "    super(BahdanauAttention, self).__init__()\n",
    "    self.W1 = tf.keras.layers.Dense(units)\n",
    "    self.W2 = tf.keras.layers.Dense(units)\n",
    "    self.V = tf.keras.layers.Dense(1)\n",
    "\n",
    "  def call(self, query, values):\n",
    "    # hidden shape == (batch_size, hidden size)\n",
    "    # hidden_with_time_axis shape == (batch_size, 1, hidden size)\n",
    "    # we are doing this to perform addition to calculate the score\n",
    "    hidden_with_time_axis = tf.expand_dims(query, 1)\n",
    "\n",
    "    # score shape == (batch_size, max_length, 1)\n",
    "    # we get 1 at the last axis because we are applying score to self.V\n",
    "    # the shape of the tensor before applying self.V is (batch_size, max_length, units)\n",
    "    score = self.V(tf.nn.tanh(\n",
    "        self.W1(values) + self.W2(hidden_with_time_axis)))\n",
    "\n",
    "    # attention_weights shape == (batch_size, max_length, 1)\n",
    "    attention_weights = tf.nn.softmax(score, axis=1)\n",
    "\n",
    "    # context_vector shape after sum == (batch_size, hidden_size)\n",
    "    context_vector = attention_weights * values\n",
    "    context_vector = tf.reduce_sum(context_vector, axis=1)\n",
    "\n",
    "    return context_vector, attention_weights"
   ]
  },
  {
   "cell_type": "code",
   "execution_count": 23,
   "metadata": {
    "colab": {},
    "colab_type": "code",
    "id": "k534zTHiDjQU"
   },
   "outputs": [
    {
     "name": "stdout",
     "output_type": "stream",
     "text": [
      "Attention result shape: (batch size, units) (64, 1024)\n",
      "Attention weights shape: (batch_size, sequence_length, 1) (64, 13, 1)\n"
     ]
    }
   ],
   "source": [
    "attention_layer = BahdanauAttention(10)\n",
    "attention_result, attention_weights = attention_layer(sample_hidden, sample_output)\n",
    "\n",
    "print(\"Attention result shape: (batch size, units) {}\".format(attention_result.shape))\n",
    "print(\"Attention weights shape: (batch_size, sequence_length, 1) {}\".format(attention_weights.shape))"
   ]
  },
  {
   "cell_type": "code",
   "execution_count": 24,
   "metadata": {
    "colab": {},
    "colab_type": "code",
    "id": "yJ_B3mhW3jFk"
   },
   "outputs": [],
   "source": [
    "class Decoder(tf.keras.Model):\n",
    "  def __init__(self, vocab_size, embedding_dim, dec_units, batch_sz):\n",
    "    super(Decoder, self).__init__()\n",
    "    self.batch_sz = batch_sz\n",
    "    self.dec_units = dec_units\n",
    "    self.embedding = tf.keras.layers.Embedding(vocab_size, embedding_dim)\n",
    "    self.gru = tf.keras.layers.GRU(self.dec_units,\n",
    "                                   return_sequences=True,\n",
    "                                   return_state=True,\n",
    "                                   recurrent_initializer='glorot_uniform')\n",
    "    self.fc = tf.keras.layers.Dense(vocab_size)\n",
    "\n",
    "    # used for attention\n",
    "    self.attention = BahdanauAttention(self.dec_units)\n",
    "\n",
    "  def call(self, x, hidden, enc_output):\n",
    "    # enc_output shape == (batch_size, max_length, hidden_size)\n",
    "    context_vector, attention_weights = self.attention(hidden, enc_output)\n",
    "\n",
    "    # x shape after passing through embedding == (batch_size, 1, embedding_dim)\n",
    "    x = self.embedding(x)\n",
    "\n",
    "    # x shape after concatenation == (batch_size, 1, embedding_dim + hidden_size)\n",
    "    x = tf.concat([tf.expand_dims(context_vector, 1), x], axis=-1)\n",
    "\n",
    "    # passing the concatenated vector to the GRU\n",
    "    output, state = self.gru(x)\n",
    "\n",
    "    # output shape == (batch_size * 1, hidden_size)\n",
    "    output = tf.reshape(output, (-1, output.shape[2]))\n",
    "\n",
    "    # output shape == (batch_size, vocab)\n",
    "    x = self.fc(output)\n",
    "\n",
    "    return x, state, attention_weights"
   ]
  },
  {
   "cell_type": "code",
   "execution_count": 25,
   "metadata": {
    "colab": {},
    "colab_type": "code",
    "id": "P5UY8wko3jFp"
   },
   "outputs": [
    {
     "name": "stdout",
     "output_type": "stream",
     "text": [
      "Decoder output shape: (batch_size, vocab size) (64, 15482)\n"
     ]
    }
   ],
   "source": [
    "decoder = Decoder(vocab_tar_size, embedding_dim, units, BATCH_SIZE)\n",
    "\n",
    "sample_decoder_output, _, _ = decoder(tf.random.uniform((BATCH_SIZE, 1)),\n",
    "                                      sample_hidden, sample_output)\n",
    "\n",
    "print ('Decoder output shape: (batch_size, vocab size) {}'.format(sample_decoder_output.shape))"
   ]
  },
  {
   "cell_type": "markdown",
   "metadata": {
    "colab_type": "text",
    "id": "_ch_71VbIRfK"
   },
   "source": [
    "## Define the optimizer and the loss function"
   ]
  },
  {
   "cell_type": "code",
   "execution_count": 26,
   "metadata": {
    "colab": {},
    "colab_type": "code",
    "id": "WmTHr5iV3jFr"
   },
   "outputs": [],
   "source": [
    "optimizer = tf.keras.optimizers.Adam()\n",
    "loss_object = tf.keras.losses.SparseCategoricalCrossentropy(\n",
    "    from_logits=True, reduction='none')\n",
    "\n",
    "def loss_function(real, pred):\n",
    "  mask = tf.math.logical_not(tf.math.equal(real, 0))\n",
    "  loss_ = loss_object(real, pred)\n",
    "\n",
    "  mask = tf.cast(mask, dtype=loss_.dtype)\n",
    "  loss_ *= mask\n",
    "\n",
    "  return tf.reduce_mean(loss_)"
   ]
  },
  {
   "cell_type": "markdown",
   "metadata": {
    "colab_type": "text",
    "id": "DMVWzzsfNl4e"
   },
   "source": [
    "## Checkpoints (Object-based saving)"
   ]
  },
  {
   "cell_type": "code",
   "execution_count": 27,
   "metadata": {
    "colab": {},
    "colab_type": "code",
    "id": "Zj8bXQTgNwrF"
   },
   "outputs": [],
   "source": [
    "checkpoint_dir = 'training_checkpoints'\n",
    "checkpoint_prefix = os.path.join(checkpoint_dir, \"ckpt\")\n",
    "checkpoint = tf.train.Checkpoint(optimizer=optimizer,\n",
    "                                 encoder=encoder,\n",
    "                                 decoder=decoder)"
   ]
  },
  {
   "cell_type": "markdown",
   "metadata": {
    "colab_type": "text",
    "id": "hpObfY22IddU"
   },
   "source": [
    "## Training\n",
    "\n",
    "1. Pass the *input* through the *encoder* which return *encoder output* and the *encoder hidden state*.\n",
    "2. The encoder output, encoder hidden state and the decoder input (which is the *start token*) is passed to the decoder.\n",
    "3. The decoder returns the *predictions* and the *decoder hidden state*.\n",
    "4. The decoder hidden state is then passed back into the model and the predictions are used to calculate the loss.\n",
    "5. Use *teacher forcing* to decide the next input to the decoder.\n",
    "6. *Teacher forcing* is the technique where the *target word* is passed as the *next input* to the decoder.\n",
    "7. The final step is to calculate the gradients and apply it to the optimizer and backpropagate."
   ]
  },
  {
   "cell_type": "code",
   "execution_count": 28,
   "metadata": {
    "colab": {},
    "colab_type": "code",
    "id": "sC9ArXSsVfqn"
   },
   "outputs": [],
   "source": [
    "@tf.function\n",
    "def train_step(inp, targ, enc_hidden):\n",
    "  loss = 0\n",
    "\n",
    "  with tf.GradientTape() as tape:\n",
    "    enc_output, enc_hidden = encoder(inp, enc_hidden)\n",
    "\n",
    "    dec_hidden = enc_hidden\n",
    "\n",
    "    dec_input = tf.expand_dims([target_sentence_tokenizer.word_index['start_']] * BATCH_SIZE, 1)\n",
    "\n",
    "    # Teacher forcing - feeding the target as the next input\n",
    "    for t in range(1, targ.shape[1]):\n",
    "      # passing enc_output to the decoder\n",
    "      predictions, dec_hidden, _ = decoder(dec_input, dec_hidden, enc_output)\n",
    "\n",
    "      loss += loss_function(targ[:, t], predictions)\n",
    "\n",
    "      # using teacher forcing\n",
    "      dec_input = tf.expand_dims(targ[:, t], 1)\n",
    "\n",
    "  batch_loss = (loss / int(targ.shape[1]))\n",
    "\n",
    "  variables = encoder.trainable_variables + decoder.trainable_variables\n",
    "\n",
    "  gradients = tape.gradient(loss, variables)\n",
    "\n",
    "  optimizer.apply_gradients(zip(gradients, variables))\n",
    "\n",
    "  return batch_loss"
   ]
  },
  {
   "cell_type": "code",
   "execution_count": null,
   "metadata": {},
   "outputs": [],
   "source": [
    "steps_per_epoch"
   ]
  },
  {
   "cell_type": "code",
   "execution_count": 30,
   "metadata": {
    "colab": {},
    "colab_type": "code",
    "id": "ddefjBMa3jF0"
   },
   "outputs": [
    {
     "name": "stdout",
     "output_type": "stream",
     "text": [
      "Epoch 1 Batch 0 loss 0.6956598162651062\n",
      "Epoch 1 Batch 100 loss 0.763929009437561\n",
      "Epoch 1 Batch 200 loss 0.6837393045425415\n",
      "Epoch 1 Batch 300 loss 0.6682395339012146\n",
      "Epoch 1 Batch 400 loss 0.6507248282432556\n",
      "Epoch 1 Batch 500 loss 0.5799139142036438\n",
      "Epoch 1 Batch 600 loss 0.6264998316764832\n",
      "Epoch 1 Batch 700 loss 0.6814857721328735\n",
      "Epoch 1 Loss 0.6441\n",
      "Time taken for 1 epoch 1578.9207246303558 sec\n",
      "\n",
      "Epoch 2 Batch 0 loss 0.4790405333042145\n",
      "Epoch 2 Batch 100 loss 0.4956303536891937\n",
      "Epoch 2 Batch 200 loss 0.42530933022499084\n",
      "Epoch 2 Batch 300 loss 0.38007795810699463\n",
      "Epoch 2 Batch 400 loss 0.45016881823539734\n",
      "Epoch 2 Batch 500 loss 0.3710222840309143\n",
      "Epoch 2 Batch 600 loss 0.3610090911388397\n",
      "Epoch 2 Batch 700 loss 0.44673362374305725\n",
      "Epoch 2 Loss 0.4331\n",
      "Time taken for 1 epoch 1565.6961843967438 sec\n",
      "\n",
      "Epoch 3 Batch 0 loss 0.2985133230686188\n",
      "Epoch 3 Batch 100 loss 0.22902511060237885\n",
      "Epoch 3 Batch 200 loss 0.29360195994377136\n",
      "Epoch 3 Batch 300 loss 0.31069430708885193\n",
      "Epoch 3 Batch 400 loss 0.31368520855903625\n",
      "Epoch 3 Batch 500 loss 0.314592570066452\n",
      "Epoch 3 Batch 600 loss 0.26923441886901855\n",
      "Epoch 3 Batch 700 loss 0.26498663425445557\n",
      "Epoch 3 Loss 0.3014\n",
      "Time taken for 1 epoch 1561.9637155532837 sec\n",
      "\n",
      "Epoch 4 Batch 0 loss 0.19859014451503754\n",
      "Epoch 4 Batch 100 loss 0.15931178629398346\n",
      "Epoch 4 Batch 200 loss 0.1853380650281906\n",
      "Epoch 4 Batch 300 loss 0.23516805469989777\n",
      "Epoch 4 Batch 400 loss 0.2201475203037262\n",
      "Epoch 4 Batch 500 loss 0.21784336864948273\n",
      "Epoch 4 Batch 600 loss 0.23990924656391144\n",
      "Epoch 4 Batch 700 loss 0.24434028565883636\n",
      "Epoch 4 Loss 0.2196\n",
      "Time taken for 1 epoch 1562.8336188793182 sec\n",
      "\n",
      "Epoch 5 Batch 0 loss 0.13347643613815308\n",
      "Epoch 5 Batch 100 loss 0.1744602769613266\n",
      "Epoch 5 Batch 200 loss 0.18049345910549164\n",
      "Epoch 5 Batch 300 loss 0.1476294845342636\n",
      "Epoch 5 Batch 400 loss 0.1762777417898178\n",
      "Epoch 5 Batch 500 loss 0.1424569934606552\n",
      "Epoch 5 Batch 600 loss 0.17855426669120789\n",
      "Epoch 5 Batch 700 loss 0.17868809401988983\n",
      "Epoch 5 Loss 0.1703\n",
      "Time taken for 1 epoch 1567.0091602802277 sec\n",
      "\n",
      "Epoch 6 Batch 0 loss 0.09853958338499069\n",
      "Epoch 6 Batch 100 loss 0.11140880733728409\n",
      "Epoch 6 Batch 200 loss 0.11089277267456055\n",
      "Epoch 6 Batch 300 loss 0.14755406975746155\n",
      "Epoch 6 Batch 400 loss 0.1523357629776001\n",
      "Epoch 6 Batch 500 loss 0.12762518227100372\n",
      "Epoch 6 Batch 600 loss 0.12148886173963547\n",
      "Epoch 6 Batch 700 loss 0.18081645667552948\n",
      "Epoch 6 Loss 0.1374\n",
      "Time taken for 1 epoch 1589.0822985172272 sec\n",
      "\n",
      "Epoch 7 Batch 0 loss 0.10463931411504745\n",
      "Epoch 7 Batch 100 loss 0.07924025505781174\n",
      "Epoch 7 Batch 200 loss 0.09976129233837128\n",
      "Epoch 7 Batch 300 loss 0.1252477467060089\n",
      "Epoch 7 Batch 400 loss 0.11361709982156754\n",
      "Epoch 7 Batch 500 loss 0.11304068565368652\n",
      "Epoch 7 Batch 600 loss 0.15494593977928162\n",
      "Epoch 7 Batch 700 loss 0.1335686594247818\n",
      "Epoch 7 Loss 0.1163\n",
      "Time taken for 1 epoch 1566.928725719452 sec\n",
      "\n",
      "Epoch 8 Batch 0 loss 0.07292342185974121\n",
      "Epoch 8 Batch 100 loss 0.08750928938388824\n",
      "Epoch 8 Batch 200 loss 0.0947294682264328\n",
      "Epoch 8 Batch 300 loss 0.07403752207756042\n",
      "Epoch 8 Batch 400 loss 0.09935609996318817\n",
      "Epoch 8 Batch 500 loss 0.1140831708908081\n",
      "Epoch 8 Batch 600 loss 0.1006072387099266\n",
      "Epoch 8 Batch 700 loss 0.1372491419315338\n",
      "Epoch 8 Loss 0.1026\n",
      "Time taken for 1 epoch 1563.771032333374 sec\n",
      "\n",
      "Epoch 9 Batch 0 loss 0.11906315386295319\n",
      "Epoch 9 Batch 100 loss 0.07181496918201447\n",
      "Epoch 9 Batch 200 loss 0.08593986183404922\n",
      "Epoch 9 Batch 300 loss 0.09550050646066666\n",
      "Epoch 9 Batch 400 loss 0.11426593363285065\n",
      "Epoch 9 Batch 500 loss 0.12207403033971786\n",
      "Epoch 9 Batch 600 loss 0.1086326614022255\n",
      "Epoch 9 Batch 700 loss 0.11260179430246353\n",
      "Epoch 9 Loss 0.0934\n",
      "Time taken for 1 epoch 1583.3373453617096 sec\n",
      "\n",
      "Epoch 10 Batch 0 loss 0.06380419433116913\n",
      "Epoch 10 Batch 100 loss 0.07672788947820663\n",
      "Epoch 10 Batch 200 loss 0.0833241418004036\n",
      "Epoch 10 Batch 300 loss 0.07058285921812057\n",
      "Epoch 10 Batch 400 loss 0.061833180487155914\n",
      "Epoch 10 Batch 500 loss 0.11215517669916153\n",
      "Epoch 10 Batch 600 loss 0.10398677736520767\n",
      "Epoch 10 Batch 700 loss 0.08847278356552124\n",
      "Epoch 10 Loss 0.0850\n",
      "Time taken for 1 epoch 1581.7639336585999 sec\n",
      "\n",
      "Epoch 11 Batch 0 loss 0.09807384014129639\n",
      "Epoch 11 Batch 100 loss 0.05704211816191673\n",
      "Epoch 11 Batch 200 loss 0.07040470093488693\n",
      "Epoch 11 Batch 300 loss 0.06503941863775253\n",
      "Epoch 11 Batch 400 loss 0.08814861625432968\n",
      "Epoch 11 Batch 500 loss 0.07078094035387039\n",
      "Epoch 11 Batch 600 loss 0.08697369694709778\n",
      "Epoch 11 Batch 700 loss 0.09644312411546707\n",
      "Epoch 11 Loss 0.0781\n",
      "Time taken for 1 epoch 1580.928723335266 sec\n",
      "\n",
      "Epoch 12 Batch 0 loss 0.04893769323825836\n",
      "Epoch 12 Batch 100 loss 0.06008072569966316\n",
      "Epoch 12 Batch 200 loss 0.05986136943101883\n",
      "Epoch 12 Batch 300 loss 0.06862585246562958\n",
      "Epoch 12 Batch 400 loss 0.06469748169183731\n",
      "Epoch 12 Batch 500 loss 0.07063938677310944\n",
      "Epoch 12 Batch 600 loss 0.08462698012590408\n",
      "Epoch 12 Batch 700 loss 0.07838835567235947\n",
      "Epoch 12 Loss 0.0750\n",
      "Time taken for 1 epoch 1578.8068327903748 sec\n",
      "\n",
      "Epoch 13 Batch 0 loss 0.04780507832765579\n",
      "Epoch 13 Batch 100 loss 0.07506425678730011\n",
      "Epoch 13 Batch 200 loss 0.0669635459780693\n",
      "Epoch 13 Batch 300 loss 0.04365706816315651\n",
      "Epoch 13 Batch 400 loss 0.09190186858177185\n",
      "Epoch 13 Batch 500 loss 0.07480629533529282\n",
      "Epoch 13 Batch 600 loss 0.08824405819177628\n",
      "Epoch 13 Batch 700 loss 0.09455598145723343\n",
      "Epoch 13 Loss 0.0703\n",
      "Time taken for 1 epoch 1579.6224491596222 sec\n",
      "\n",
      "Epoch 14 Batch 0 loss 0.042537931352853775\n",
      "Epoch 14 Batch 100 loss 0.04090442508459091\n",
      "Epoch 14 Batch 200 loss 0.0656135156750679\n",
      "Epoch 14 Batch 300 loss 0.06367843598127365\n",
      "Epoch 14 Batch 400 loss 0.06462070345878601\n",
      "Epoch 14 Batch 500 loss 0.0647917166352272\n",
      "Epoch 14 Batch 600 loss 0.048681747168302536\n",
      "Epoch 14 Batch 700 loss 0.06959027051925659\n",
      "Epoch 14 Loss 0.0668\n",
      "Time taken for 1 epoch 1568.3426518440247 sec\n",
      "\n",
      "Epoch 15 Batch 0 loss 0.058794260025024414\n",
      "Epoch 15 Batch 100 loss 0.07596663385629654\n",
      "Epoch 15 Batch 200 loss 0.0570196807384491\n",
      "Epoch 15 Batch 300 loss 0.06453122198581696\n",
      "Epoch 15 Batch 400 loss 0.06861153244972229\n",
      "Epoch 15 Batch 500 loss 0.060132499784231186\n",
      "Epoch 15 Batch 600 loss 0.07594899833202362\n",
      "Epoch 15 Batch 700 loss 0.09371814131736755\n",
      "Epoch 15 Loss 0.0640\n",
      "Time taken for 1 epoch 1588.222707748413 sec\n",
      "\n",
      "Epoch 16 Batch 0 loss 0.04829123616218567\n",
      "Epoch 16 Batch 100 loss 0.05064189434051514\n",
      "Epoch 16 Batch 200 loss 0.05422164127230644\n",
      "Epoch 16 Batch 300 loss 0.03945152088999748\n",
      "Epoch 16 Batch 400 loss 0.057806313037872314\n",
      "Epoch 16 Batch 500 loss 0.051085975021123886\n",
      "Epoch 16 Batch 600 loss 0.05425618961453438\n",
      "Epoch 16 Batch 700 loss 0.0492754690349102\n",
      "Epoch 16 Loss 0.0620\n",
      "Time taken for 1 epoch 1590.832799911499 sec\n",
      "\n",
      "Epoch 17 Batch 0 loss 0.05108192190527916\n",
      "Epoch 17 Batch 100 loss 0.05582066997885704\n",
      "Epoch 17 Batch 200 loss 0.03720208629965782\n",
      "Epoch 17 Batch 300 loss 0.06811908632516861\n",
      "Epoch 17 Batch 400 loss 0.05725541338324547\n",
      "Epoch 17 Batch 500 loss 0.056775521486997604\n",
      "Epoch 17 Batch 600 loss 0.08273282647132874\n",
      "Epoch 17 Batch 700 loss 0.06842485070228577\n",
      "Epoch 17 Loss 0.0611\n",
      "Time taken for 1 epoch 1582.2450785636902 sec\n",
      "\n",
      "Epoch 18 Batch 0 loss 0.030635425820946693\n",
      "Epoch 18 Batch 100 loss 0.06697559356689453\n",
      "Epoch 18 Batch 200 loss 0.0713183730840683\n",
      "Epoch 18 Batch 300 loss 0.037884414196014404\n",
      "Epoch 18 Batch 400 loss 0.0482039712369442\n",
      "Epoch 18 Batch 500 loss 0.06328841298818588\n",
      "Epoch 18 Batch 600 loss 0.06330172717571259\n",
      "Epoch 18 Batch 700 loss 0.046605486422777176\n",
      "Epoch 18 Loss 0.0595\n",
      "Time taken for 1 epoch 1576.902646780014 sec\n",
      "\n",
      "Epoch 19 Batch 0 loss 0.06245490908622742\n",
      "Epoch 19 Batch 100 loss 0.02938431315124035\n",
      "Epoch 19 Batch 200 loss 0.049967147409915924\n",
      "Epoch 19 Batch 300 loss 0.02878320775926113\n",
      "Epoch 19 Batch 400 loss 0.055928606539964676\n",
      "Epoch 19 Batch 500 loss 0.06000450998544693\n",
      "Epoch 19 Batch 600 loss 0.05305561050772667\n",
      "Epoch 19 Batch 700 loss 0.07786928117275238\n",
      "Epoch 19 Loss 0.0576\n",
      "Time taken for 1 epoch 1580.7136678695679 sec\n",
      "\n",
      "Epoch 20 Batch 0 loss 0.057412195950746536\n",
      "Epoch 20 Batch 100 loss 0.03756285831332207\n",
      "Epoch 20 Batch 200 loss 0.06577420234680176\n",
      "Epoch 20 Batch 300 loss 0.05299786850810051\n",
      "Epoch 20 Batch 400 loss 0.04769767448306084\n",
      "Epoch 20 Batch 500 loss 0.06994395703077316\n",
      "Epoch 20 Batch 600 loss 0.07539374381303787\n",
      "Epoch 20 Batch 700 loss 0.05352982506155968\n",
      "Epoch 20 Loss 0.0570\n",
      "Time taken for 1 epoch 1573.934122800827 sec\n",
      "\n"
     ]
    }
   ],
   "source": [
    "EPOCHS = 20\n",
    "\n",
    "for epoch in range(EPOCHS):\n",
    "  start = time.time()\n",
    "\n",
    "  enc_hidden = encoder.initialize_hidden_state()\n",
    "  total_loss = 0\n",
    "\n",
    "  for (batch, (inp, targ)) in enumerate(dataset.take(steps_per_epoch)):\n",
    "    batch_loss = train_step(inp, targ, enc_hidden)\n",
    "    total_loss += batch_loss\n",
    "    if batch % 100 == 0:\n",
    "      print('Epoch {} Batch {} loss {}'.format(epoch + 1,batch, batch_loss.numpy()))\n",
    "   \n",
    "      \n",
    "  # saving (checkpoint) the model every 2 epochs\n",
    "  if (epoch + 1) % 2 == 0:\n",
    "    checkpoint.save(file_prefix = checkpoint_prefix)\n",
    "\n",
    "  print('Epoch {} Loss {:.4f}'.format(epoch + 1,\n",
    "                                      total_loss / steps_per_epoch))\n",
    "  print('Time taken for 1 epoch {} sec\\n'.format(time.time() - start))"
   ]
  },
  {
   "cell_type": "markdown",
   "metadata": {
    "colab_type": "text",
    "id": "mU3Ce8M6I3rz"
   },
   "source": [
    "## Translate\n",
    "\n",
    "* The evaluate function is similar to the training loop, except we don't use *teacher forcing* here. The input to the decoder at each time step is its previous predictions along with the hidden state and the encoder output.\n",
    "* Stop predicting when the model predicts the *end token* or when the max traget legth is reached\n",
    "* And store the *attention weights for every time step*.\n",
    "\n",
    "Note: The encoder output is calculated only once for one input."
   ]
  },
  {
   "cell_type": "code",
   "execution_count": 42,
   "metadata": {
    "colab": {},
    "colab_type": "code",
    "id": "EbQpyYs13jF_"
   },
   "outputs": [],
   "source": [
    "def evaluate(sentence):\n",
    "  attention_plot = np.zeros((max_target_length, max_source_length))\n",
    "\n",
    "  sentence = preprocess_sentence(sentence)\n",
    "  #print(sentence)\n",
    "  #print(source_sentence_tokenizer.word_index)\n",
    "\n",
    "  inputs = [source_sentence_tokenizer.word_index[i] for i in sentence.split(' ')]\n",
    "  inputs = tf.keras.preprocessing.sequence.pad_sequences([inputs],\n",
    "                                                         maxlen=max_source_length,\n",
    "                                                         padding='post')\n",
    "  inputs = tf.convert_to_tensor(inputs)\n",
    "\n",
    "  result = ''\n",
    "\n",
    "  hidden = [tf.zeros((1, units))]\n",
    "  enc_out, enc_hidden = encoder(inputs, hidden)\n",
    "\n",
    "  dec_hidden = enc_hidden\n",
    "  dec_input = tf.expand_dims([target_sentence_tokenizer.word_index['start_']], 0)\n",
    "\n",
    "  for t in range(max_target_length):\n",
    "    predictions, dec_hidden, attention_weights = decoder(dec_input,\n",
    "                                                         dec_hidden,\n",
    "                                                         enc_out)\n",
    "\n",
    "    # storing the attention weights to plot later on\n",
    "    attention_weights = tf.reshape(attention_weights, (-1, ))\n",
    "    attention_plot[t] = attention_weights.numpy()\n",
    "\n",
    "    predicted_id = tf.argmax(predictions[0]).numpy()\n",
    "\n",
    "    result += target_sentence_tokenizer.index_word[predicted_id] + ' '\n",
    "\n",
    "    if target_sentence_tokenizer.index_word[predicted_id] == '_end':\n",
    "      return result, sentence, attention_plot\n",
    "\n",
    "    # the predicted ID is fed back into the model\n",
    "    dec_input = tf.expand_dims([predicted_id], 0)\n",
    "\n",
    "  return result, sentence, attention_plot"
   ]
  },
  {
   "cell_type": "markdown",
   "metadata": {},
   "source": [
    "## To Plot Attention weights"
   ]
  },
  {
   "cell_type": "code",
   "execution_count": 32,
   "metadata": {
    "colab": {},
    "colab_type": "code",
    "id": "s5hQWlbN3jGF"
   },
   "outputs": [],
   "source": [
    "# function for plotting the attention weights\n",
    "def plot_attention(attention, sentence, predicted_sentence):\n",
    "  fig = plt.figure(figsize=(10,10))\n",
    "  ax = fig.add_subplot(1, 1, 1)\n",
    "  ax.matshow(attention, cmap='viridis')\n",
    "\n",
    "  fontdict = {'fontsize': 14}\n",
    "\n",
    "  ax.set_xticklabels([''] + sentence, fontdict=fontdict, rotation=90)\n",
    "  ax.set_yticklabels([''] + predicted_sentence, fontdict=fontdict)\n",
    "\n",
    "  ax.xaxis.set_major_locator(ticker.MultipleLocator(1))\n",
    "  ax.yaxis.set_major_locator(ticker.MultipleLocator(1))\n",
    "\n",
    "  plt.show()"
   ]
  },
  {
   "cell_type": "code",
   "execution_count": 33,
   "metadata": {
    "colab": {},
    "colab_type": "code",
    "id": "sl9zUHzg3jGI"
   },
   "outputs": [],
   "source": [
    "def translate(sentence):\n",
    "  result, sentence, attention_plot = evaluate(sentence)\n",
    "  \n",
    "  print('Input: %s' % (sentence))\n",
    "  print('Predicted translation: {}'.format(result))\n",
    "\n",
    "  attention_plot = attention_plot[:len(result.split(' ')), :len(sentence.split(' '))]\n",
    "  plot_attention(attention_plot, sentence.split(' '), result.split(' '))"
   ]
  },
  {
   "cell_type": "markdown",
   "metadata": {
    "colab_type": "text",
    "id": "n250XbnjOaqP"
   },
   "source": [
    "## Restore the latest checkpoint and test"
   ]
  },
  {
   "cell_type": "code",
   "execution_count": 29,
   "metadata": {
    "colab": {},
    "colab_type": "code",
    "id": "UJpT9D5_OgP6"
   },
   "outputs": [
    {
     "data": {
      "text/plain": [
       "<tensorflow.python.training.tracking.util.CheckpointLoadStatus at 0x197f43d8d88>"
      ]
     },
     "execution_count": 29,
     "metadata": {},
     "output_type": "execute_result"
    }
   ],
   "source": [
    "# restoring the latest checkpoint in checkpoint_dir\n",
    "checkpoint.restore(tf.train.latest_checkpoint(checkpoint_dir))"
   ]
  },
  {
   "cell_type": "markdown",
   "metadata": {},
   "source": [
    "## Final translations with Attention Plots"
   ]
  },
  {
   "cell_type": "code",
   "execution_count": 39,
   "metadata": {},
   "outputs": [
    {
     "name": "stdout",
     "output_type": "stream",
     "text": [
      "Input: start_ i am going to work . _end\n",
      "Predicted translation: voy a trabajar . _end \n"
     ]
    },
    {
     "data": {
      "image/png": "[encoded data removed]",
      "text/plain": [
       "<Figure size 720x720 with 1 Axes>"
      ]
     },
     "metadata": {
      "needs_background": "light"
     },
     "output_type": "display_data"
    }
   ],
   "source": [
    "translate(u'I am going to work.')"
   ]
  },
  {
   "cell_type": "code",
   "execution_count": 37,
   "metadata": {
    "colab": {},
    "colab_type": "code",
    "id": "zSx2iM36EZQZ"
   },
   "outputs": [
    {
     "name": "stdout",
     "output_type": "stream",
     "text": [
      "Input: start_ you need to work smart . _end\n",
      "Predicted translation: necesitas trabajar demasiado duro . _end \n"
     ]
    },
    {
     "data": {
      "image/png": "[encoded data removed]",
      "text/plain": [
       "<Figure size 720x720 with 1 Axes>"
      ]
     },
     "metadata": {
      "needs_background": "light"
     },
     "output_type": "display_data"
    }
   ],
   "source": [
    "translate(u'You need to work smart.')"
   ]
  },
  {
   "cell_type": "code",
   "execution_count": null,
   "metadata": {},
   "outputs": [],
   "source": []
  }
 ],
 "metadata": {
  "accelerator": "GPU",
  "colab": {
   "collapsed_sections": [],
   "name": "nmt_with_attention.ipynb",
   "private_outputs": true,
   "provenance": [],
   "toc_visible": true
  },
  "kernelspec": {
   "display_name": "Python 3",
   "language": "python",
   "name": "python3"
  },
  "language_info": {
   "codemirror_mode": {
    "name": "ipython",
    "version": 3
   },
   "file_extension": ".py",
   "mimetype": "text/x-python",
   "name": "python",
   "nbconvert_exporter": "python",
   "pygments_lexer": "ipython3",
   "version": "3.7.4"
  }
 },
 "nbformat": 4,
 "nbformat_minor": 1
}
